{
 "cells": [
  {
   "cell_type": "code",
   "execution_count": 4,
   "metadata": {
    "collapsed": false
   },
   "outputs": [
    {
     "name": "stdout",
     "output_type": "stream",
     "text": [
      " AGE STATISTICS:\n",
      "Age  Percentage\n",
      "80后 41.2%\n",
      "90后 32.8%\n",
      "60后 3.6%\n",
      "70后 18.0%\n",
      "50后 1.2%\n",
      "00后 3.2%\n"
     ]
    }
   ],
   "source": [
    "'''\n",
    "BASIC STATISTICAL ANALYSIS\n",
    "\n",
    "OUTPUT: \n",
    "BIRTHDAY STATISTICAL DISTRIBUTION\n",
    "SALE ORDER TIME \n",
    "USER LEVEL DISTRIBUTION\n",
    "\n",
    "Jing Wang\n",
    "Aug. 13, 2016\n",
    "JD.COM, Beijing\n",
    "'''\n",
    "\n",
    "import pandas as pd\n",
    "import numpy as np\n",
    "import re\n",
    "from collections import Counter\n",
    "import operator\n",
    "\n",
    "df = pd.read_csv('usr_tag.csv')\n",
    "df = df[df.columns[1:]]\n",
    "\n",
    "\n",
    "dogFood_id = 7002\n",
    "dogFood_data = df[df['item_third_cate_cd'] == dogFood_id]\n",
    "\n",
    "# birthday statistics\n",
    "birthday = Counter(dogFood_data['reg_birthday'])\n",
    "    \n",
    "sorted_birthday = sorted(birthday.items(), key=operator.itemgetter(1), reverse = True)[7:]\n",
    "\n",
    "s = 0\n",
    "birth_stats = {}\n",
    "for i in range(len(sorted_birthday)):\n",
    "    birth = sorted_birthday[i][0]\n",
    "    s = s + sorted_birthday[i][1]\n",
    "    if '195' in birth or '50\\xe5\\x90\\x8e' in birth:\n",
    "        birth_stats['50后'] = birth_stats.get('50后',0) + sorted_birthday[i][1]\n",
    "    elif '196' in birth or '60\\xe5\\x90\\x8e' in birth:\n",
    "        birth_stats['60后'] = birth_stats.get('60后',0) + sorted_birthday[i][1]\n",
    "    elif '197' in birth or '70\\xe5\\x90\\x8e' in birth:\n",
    "        birth_stats['70后'] = birth_stats.get('70后',0) + sorted_birthday[i][1]\n",
    "    elif '198' in birth or '80\\xe5\\x90\\x8e' in birth:\n",
    "        birth_stats['80后'] = birth_stats.get('80后',0) + sorted_birthday[i][1]\n",
    "    elif '199' in birth or '90\\xe5\\x90\\x8e' in birth:\n",
    "        birth_stats['90后'] = birth_stats.get('90后',0) + sorted_birthday[i][1]\n",
    "    elif '200' in birth or '00\\xe5\\x90\\x8e' in birth:\n",
    "        birth_stats['00后'] = birth_stats.get('00后',0) + sorted_birthday[i][1]\n",
    "\n",
    "print 'AGE STATISTICS:'\n",
    "print 'Age  Percentage'\n",
    "for key, value in birth_stats.items():\n",
    "    print key, str(value / float(sum(birth_stats.values())) * 100) + '%'"
   ]
  },
  {
   "cell_type": "code",
   "execution_count": 5,
   "metadata": {
    "collapsed": false
   },
   "outputs": [
    {
     "name": "stdout",
     "output_type": "stream",
     "text": [
      "--------------------------------------------------\n",
      "SALE ORDER HOUR STATISTICS\n",
      "    hour  frequency\n",
      "0     21         86\n",
      "1     11         81\n",
      "2     12         74\n",
      "3     10         72\n",
      "4     22         69\n",
      "5     16         65\n",
      "6     20         63\n",
      "7     17         60\n",
      "8      9         57\n",
      "9     13         55\n",
      "10    14         55\n",
      "11    23         52\n",
      "12     8         43\n",
      "13    19         43\n",
      "14    18         42\n",
      "15    15         40\n",
      "16     7         35\n",
      "17     0         24\n",
      "18     6         18\n",
      "19     1         10\n",
      "20     2          5\n",
      "21     3          4\n",
      "22     4          2\n",
      "23     5          1\n"
     ]
    },
    {
     "name": "stderr",
     "output_type": "stream",
     "text": [
      "/Users/jingwang/anaconda/lib/python2.7/site-packages/ipykernel/__main__.py:5: SettingWithCopyWarning: \n",
      "A value is trying to be set on a copy of a slice from a DataFrame.\n",
      "Try using .loc[row_indexer,col_indexer] = value instead\n",
      "\n",
      "See the caveats in the documentation: http://pandas.pydata.org/pandas-docs/stable/indexing.html#indexing-view-versus-copy\n"
     ]
    }
   ],
   "source": [
    "# sale order date hour\n",
    "def matchHour(group):\n",
    "    return int(re.findall('([0-9][0-9]):', group)[0])\n",
    "    \n",
    "dogFood_data['hour'] = dogFood_data['sale_ord_tm'].apply(matchHour)\n",
    "hour_count = Counter(dogFood_data['hour'])\n",
    "hour_count = Counter(dogFood_data['hour'])\n",
    "sorted_hour = sorted(hour_count.items(), key=operator.itemgetter(1), reverse = True)\n",
    "hour_df = pd.DataFrame(sorted_hour).rename(columns = {0: 'hour', 1: 'frequency'})\n",
    "\n",
    "print '-' * 50\n",
    "print 'SALE ORDER HOUR STATISTICS'\n",
    "print hour_df"
   ]
  },
  {
   "cell_type": "code",
   "execution_count": 10,
   "metadata": {
    "collapsed": false
   },
   "outputs": [
    {
     "name": "stdout",
     "output_type": "stream",
     "text": [
      "--------------------------------------------------\n",
      "USER LEVEL STATISTICS:\n",
      "levelCode  Percentage \n",
      "105 17.2348484848%\n",
      "50 3.0303030303%\n",
      "56 26.6098484848%\n",
      "90 0.189393939394%\n",
      "61 29.2613636364%\n",
      "62 23.6742424242%\n"
     ]
    }
   ],
   "source": [
    "# user level\n",
    "user_level = Counter(dogFood_data['user_lv_cd'])\n",
    "print '-' * 50\n",
    "print 'USER LEVEL STATISTICS:'\n",
    "print 'levelCode  Percentage '\n",
    "for key, value in user_level.items():\n",
    "\tprint key, str(value / float(sum(user_level.values())) * 100) + '%'"
   ]
  },
  {
   "cell_type": "code",
   "execution_count": null,
   "metadata": {
    "collapsed": true
   },
   "outputs": [],
   "source": []
  }
 ],
 "metadata": {
  "kernelspec": {
   "display_name": "Python 2",
   "language": "python",
   "name": "python2"
  },
  "language_info": {
   "codemirror_mode": {
    "name": "ipython",
    "version": 2
   },
   "file_extension": ".py",
   "mimetype": "text/x-python",
   "name": "python",
   "nbconvert_exporter": "python",
   "pygments_lexer": "ipython2",
   "version": "2.7.11"
  }
 },
 "nbformat": 4,
 "nbformat_minor": 0
}
